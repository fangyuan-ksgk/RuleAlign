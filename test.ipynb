{
 "cells": [
  {
   "cell_type": "code",
   "execution_count": 1,
   "metadata": {},
   "outputs": [
    {
     "name": "stdout",
     "output_type": "stream",
     "text": [
      "Annotations not found\n",
      "Test Cases not found\n",
      "Loaded 206 prompts\n",
      "Loaded 276 annotations\n"
     ]
    }
   ],
   "source": [
    "data_dir = \"database\"\n",
    "\n",
    "from src.dataset.feedback import Feedback\n",
    "\n",
    "feedback_contents = [\n",
    "    \"You should not talk about Elephant\",\n",
    "    \"You should roleplay as a customer\",\n",
    "    \"Reply with 'let me connect you to a human' when requested\",\n",
    "    \"Roleplay as a sales agent\",\n",
    "    \"Roleplay as a patient talking to a doctor\"\n",
    "] \n",
    "\n",
    "content = feedback_contents[0]\n",
    "feedback = Feedback(content=content)\n",
    "\n",
    "\n",
    "# rulealign_dataset = []\n",
    "# for content in feedback_contents:\n",
    "#     feedback = Feedback(content = content)\n",
    "#     data_list = feedback.annotations\n",
    "#     for data_dict in data_list:\n",
    "#         data_dict[\"rule\"] = feedback.content\n",
    "#     rulealign_dataset.extend(data_list)\n"
   ]
  },
  {
   "cell_type": "code",
   "execution_count": 4,
   "metadata": {},
   "outputs": [],
   "source": [
    "prompts = [anno[\"prompt\"] for anno in feedback.annotations]\n",
    "feedback.prompts = prompts \n",
    "feedback.save_prompts()"
   ]
  },
  {
   "cell_type": "code",
   "execution_count": 11,
   "metadata": {},
   "outputs": [
    {
     "data": {
      "text/plain": [
       "1202"
      ]
     },
     "execution_count": 11,
     "metadata": {},
     "output_type": "execute_result"
    }
   ],
   "source": [
    "# len(rulealign_dataset)\n",
    "import datasets \n",
    "# Convert the list to a Dataset object\n",
    "dataset = datasets.Dataset.from_list(rulealign_dataset)\n",
    "\n",
    "# Initialize the HuggingFace Hub client\n",
    "from huggingface_hub import HfApi\n",
    "api = HfApi()\n",
    "\n",
    "# Set your Hugging Face token (make sure to keep this secure)\n",
    "# You can set this as an environment variable or use a config file\n",
    "import os\n",
    "hf_token = os.environ.get(\"HF_TOKEN\")\n",
    "\n",
    "# Define the dataset name and other metadata\n",
    "dataset_name = \"Ksgk-fy/RuleAlign\"  # Replace with your desired name\n",
    "dataset_description = \"A dataset used to evaluate the rule-based alignment of LLMs\"\n",
    "\n",
    "# Push the dataset to the Hugging Face Hub\n",
    "dataset.push_to_hub(\n",
    "    dataset_name,\n",
    "    token=hf_token,\n",
    "    private=False,  # Set to True if you want the dataset to be private\n",
    "    description=dataset_description\n",
    ")\n",
    "\n",
    "print(f\"Dataset uploaded successfully to {dataset_name}\")\n"
   ]
  },
  {
   "cell_type": "code",
   "execution_count": null,
   "metadata": {},
   "outputs": [],
   "source": []
  }
 ],
 "metadata": {
  "kernelspec": {
   "display_name": "Python 3",
   "language": "python",
   "name": "python3"
  },
  "language_info": {
   "codemirror_mode": {
    "name": "ipython",
    "version": 3
   },
   "file_extension": ".py",
   "mimetype": "text/x-python",
   "name": "python",
   "nbconvert_exporter": "python",
   "pygments_lexer": "ipython3",
   "version": "3.11.5"
  }
 },
 "nbformat": 4,
 "nbformat_minor": 2
}
